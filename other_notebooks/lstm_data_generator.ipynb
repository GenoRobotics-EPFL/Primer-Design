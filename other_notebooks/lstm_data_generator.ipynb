{
 "cells": [
  {
   "cell_type": "code",
   "execution_count": 42,
   "metadata": {},
   "outputs": [],
   "source": [
    "import torch\n",
    "import torch.nn as nn\n",
    "import torch.nn.functional as F\n",
    "from torch.autograd import Function\n",
    "from torch.utils.data import DataLoader, Dataset\n",
    "import numpy as np\n",
    "from helper import *\n",
    "import sklearn \n",
    "from sklearn.metrics import pairwise_distances\n",
    "from Bio import pairwise2\n",
    "from tqdm import tqdm\n",
    "import csv"
   ]
  },
  {
   "cell_type": "code",
   "execution_count": 38,
   "metadata": {},
   "outputs": [],
   "source": [
    "sequences_list = list(SeqIO.parse(\"Data/rbcL_50K.fasta\", \"fasta\"))\n",
    "sequences_array = np.array([sequence.seq[:500] for sequence in sequences_list])"
   ]
  },
  {
   "cell_type": "code",
   "execution_count": 40,
   "metadata": {},
   "outputs": [],
   "source": [
    "random_seq_1 = sequences_array[np.random.randint(0, 50_000, size=20_000)]\n",
    "random_seq_2 = sequences_array[np.random.randint(0, 50_000, size=20_000)]"
   ]
  },
  {
   "cell_type": "code",
   "execution_count": null,
   "metadata": {},
   "outputs": [],
   "source": [
    "dataset = list()\n",
    "\n",
    "for seq1, seq2 in tqdm(zip(random_seq_1, random_seq_2)):\n",
    "    seq1_str = ''.join(seq1)\n",
    "    seq2_str = ''.join(seq2)\n",
    "    alignments = pairwise2.align.globalxx(seq1_str, seq2_str)\n",
    "    dataset.append({'seq1': seq1_str, 'seq2': seq2_str, 'score': alignments[0].score})\n",
    "\n",
    "with open('datset.csv', 'w', newline='') as csvfile:\n",
    "    fieldnames = ['seq1', 'seq2', 'score']\n",
    "    writer = csv.DictWriter(csvfile, fieldnames=fieldnames)\n",
    "    writer.writeheader()\n",
    "    writer.writerows(dataset)\n",
    "\n"
   ]
  }
 ],
 "metadata": {
  "kernelspec": {
   "display_name": "base",
   "language": "python",
   "name": "python3"
  },
  "language_info": {
   "codemirror_mode": {
    "name": "ipython",
    "version": 3
   },
   "file_extension": ".py",
   "mimetype": "text/x-python",
   "name": "python",
   "nbconvert_exporter": "python",
   "pygments_lexer": "ipython3",
   "version": "3.11.4"
  }
 },
 "nbformat": 4,
 "nbformat_minor": 2
}
